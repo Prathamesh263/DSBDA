{
 "cells": [
  {
   "cell_type": "code",
   "execution_count": null,
   "id": "76fcceff",
   "metadata": {},
   "outputs": [],
   "source": [
    "import pandas as pd\n",
    "import numpy as np"
   ]
  },
  {
   "cell_type": "code",
   "execution_count": null,
   "id": "2bcc0a33",
   "metadata": {},
   "outputs": [],
   "source": [
    "df=pd.read_csv('iris.csv')\n",
    "print(df)"
   ]
  },
  {
   "cell_type": "code",
   "execution_count": null,
   "id": "5c548361",
   "metadata": {},
   "outputs": [],
   "source": [
    "group_stats=df.groupby('species').agg({\n",
    "    'sepal_length':['mean','median','max','min','std'],\n",
    "    'sepal_width':['mean','median','max','min','std'],\n",
    "    'petal_length':['mean','median','max','min','std'],\n",
    "    'petal_width': ['mean', 'median', 'min', 'max', 'std']\n",
    "})\n",
    "\n",
    "print(group_stats)"
   ]
  },
  {
   "cell_type": "code",
   "execution_count": null,
   "id": "cf7635c6",
   "metadata": {},
   "outputs": [],
   "source": [
    "setosa_sepal_length=df[df['species']=='setosa']['sepal_length'].tolist()\n",
    "versicolor_sepal_length=df[df['species']=='versicolor']['sepal_length'].tolist()\n",
    "virginica_sepal_length=df[df['species']=='virginica']['sepal_length'].tolist()\n",
    "\n",
    "print(\"Setosa Sepal Lengths:\", setosa_sepal_length)\n",
    "print(\"Versicolor Sepal Lengths:\", versicolor_sepal_length)\n",
    "print(\"Virginica Sepal Lengths:\", virginica_sepal_length)"
   ]
  },
  {
   "cell_type": "code",
   "execution_count": null,
   "id": "e498174a",
   "metadata": {},
   "outputs": [],
   "source": [
    "setosa=df[df['species']=='setosa']\n",
    "versicolor=df[df['species']=='versicolor']\n",
    "virginica=df[df['species']=='virginica']\n",
    "\n"
   ]
  },
  {
   "cell_type": "code",
   "execution_count": null,
   "id": "64d05fbf",
   "metadata": {},
   "outputs": [],
   "source": [
    "print(setosa.describe(percentiles=[.25,.50,.75]))\n",
    "print(versicolor.describe(percentiles=[.25,.50,.75]))\n",
    "print(virginica.describe(percentiles=[.25,.50,.75]))"
   ]
  }
 ],
 "metadata": {
  "kernelspec": {
   "display_name": "Python 3",
   "language": "python",
   "name": "python3"
  },
  "language_info": {
   "codemirror_mode": {
    "name": "ipython",
    "version": 3
   },
   "file_extension": ".py",
   "mimetype": "text/x-python",
   "name": "python",
   "nbconvert_exporter": "python",
   "pygments_lexer": "ipython3",
   "version": "3.13.3"
  }
 },
 "nbformat": 4,
 "nbformat_minor": 5
}
