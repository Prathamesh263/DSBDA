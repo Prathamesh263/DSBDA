{
 "cells": [
  {
   "cell_type": "code",
   "execution_count": null,
   "id": "cd001cd4",
   "metadata": {},
   "outputs": [],
   "source": [
    "import pandas as pd \n",
    "import numpy as np"
   ]
  },
  {
   "cell_type": "code",
   "execution_count": null,
   "id": "199a33da",
   "metadata": {},
   "outputs": [],
   "source": [
    "data={\n",
    "    'Student_id':[1,2,3,4,5,6,7,8,9,10],\n",
    "    'Math_score':[85,90,87,88,95,np.nan,90,85,80,300],\n",
    "    'Sci_score':[np.nan, 76, 85, 89, 90, 34, 80, 95,86,88],\n",
    "    'Eng_score':[80, 70, 65, 75, 60, 50, 82, 88,88,96]\n",
    "}\n",
    "\n",
    "df=pd.DataFrame(data)\n",
    "print(df)"
   ]
  },
  {
   "cell_type": "code",
   "execution_count": null,
   "id": "75c107cc",
   "metadata": {},
   "outputs": [],
   "source": [
    "print(df.isnull().sum())"
   ]
  },
  {
   "cell_type": "code",
   "execution_count": null,
   "id": "015005f8",
   "metadata": {},
   "outputs": [],
   "source": [
    "df['Math_score']=df['Math_score'].fillna(df['Math_score'].mean())\n",
    "df['Sci_score']=df['Sci_score'].fillna(df['Sci_score'].mean())\n",
    "print(df)"
   ]
  },
  {
   "cell_type": "code",
   "execution_count": null,
   "id": "36ab6013",
   "metadata": {},
   "outputs": [],
   "source": [
    "Q1=df['Math_score'].quantile(0.25)\n",
    "Q2=df['Math_score'].quantile(0.75)\n",
    "IQR=Q2-Q1\n",
    "\n",
    "lower_bound=Q1-1.5*IQR\n",
    "upper_bound=Q2+1.5*IQR\n",
    "\n",
    "print(f\"Lower Bound: {lower_bound}\")\n",
    "print(f\"Upper Bound: {upper_bound}\")\n",
    "\n",
    "outlier=df[(df['Math_score']<lower_bound)|(df['Math_score']>upper_bound)]\n",
    "print(outlier)"
   ]
  },
  {
   "cell_type": "code",
   "execution_count": null,
   "id": "0bd54b65",
   "metadata": {},
   "outputs": [],
   "source": [
    "median_math=df[\"Math_score\"].median()\n",
    "df.loc[df['Math_score'] > upper_bound, 'Math_score'] = median_math\n",
    "print(df)"
   ]
  },
  {
   "cell_type": "code",
   "execution_count": null,
   "id": "7d211e22",
   "metadata": {},
   "outputs": [],
   "source": [
    "import seaborn as sns\n",
    "import matplotlib.pyplot as plt \n",
    "\n"
   ]
  },
  {
   "cell_type": "code",
   "execution_count": null,
   "id": "92b4fd88",
   "metadata": {},
   "outputs": [],
   "source": [
    "sns.histplot(df['Sci_score'],kde=True)\n",
    "plt.title('Science_Score Before Log Transformation')\n",
    "plt.show()"
   ]
  },
  {
   "cell_type": "code",
   "execution_count": null,
   "id": "b1a3ba8d",
   "metadata": {},
   "outputs": [],
   "source": [
    "df['Sci_score_log']=np.log(df['Sci_score'])\n",
    "print(df[['Sci_score','Sci_score_log']])"
   ]
  },
  {
   "cell_type": "code",
   "execution_count": null,
   "id": "d2c7eb63",
   "metadata": {},
   "outputs": [],
   "source": [
    "sns.histplot(df['Sci_score_log'],kde=True)\n",
    "plt.title(\"Sci_score_log After Transformmation\")\n",
    "plt.show()"
   ]
  }
 ],
 "metadata": {
  "kernelspec": {
   "display_name": "Python 3",
   "language": "python",
   "name": "python3"
  },
  "language_info": {
   "codemirror_mode": {
    "name": "ipython",
    "version": 3
   },
   "file_extension": ".py",
   "mimetype": "text/x-python",
   "name": "python",
   "nbconvert_exporter": "python",
   "pygments_lexer": "ipython3",
   "version": "3.13.3"
  }
 },
 "nbformat": 4,
 "nbformat_minor": 5
}
